{
 "cells": [
  {
   "cell_type": "code",
   "execution_count": 1,
   "id": "ac432719",
   "metadata": {},
   "outputs": [],
   "source": [
    "import pandas as pd\n",
    "import numpy as np\n",
    "import math"
   ]
  },
  {
   "cell_type": "markdown",
   "id": "a9c62684",
   "metadata": {},
   "source": [
    "<h3> Movies Dataset </h3>"
   ]
  },
  {
   "attachments": {},
   "cell_type": "markdown",
   "id": "190ee81b",
   "metadata": {},
   "source": [
    "<img src=\"Capture.png\" style = \"width:500px\" align = \"left\"/>"
   ]
  },
  {
   "cell_type": "markdown",
   "id": "e42fad78",
   "metadata": {},
   "source": [
    "<h3> Collaborative Filtering - User Based Filtering - Manual Calculation</h3>"
   ]
  },
  {
   "cell_type": "markdown",
   "id": "d7f9d37b",
   "metadata": {},
   "source": [
    "<h4> Based on other SIMILAR users' scores on movies, predict scores on users that have not watched the movies yet </h4>"
   ]
  },
  {
   "cell_type": "code",
   "execution_count": 2,
   "id": "0978da36",
   "metadata": {},
   "outputs": [],
   "source": [
    "users_feedback = {'Mary': {'The Hobbit': 2.5, \n",
    "                       'The Lord of the Rings': 3.5,\n",
    "                       'Star Trek': 3.0, \n",
    "                       'The Terminator': 3.5, \n",
    "                       'Norbit': 2.5, \n",
    "                       'Star Wars': 3.0},\n",
    " \n",
    "                'Peter': {'The Hobbit': 3.0, \n",
    "                        'The Lord of the Rings': 3.5, \n",
    "                        'Star Trek': 1.5, \n",
    "                        'The Terminator': 5.0, \n",
    "                        'Norbit': 3.0, \n",
    "                        'Star Wars': 3.5}, \n",
    "\n",
    "                'Stuart': {'The Hobbit': 2.5, \n",
    "                         'The Lord of the Rings': 3.0,\n",
    "                         'The Terminator': 3.5, \n",
    "                         'Star Wars': 4.0},\n",
    " \n",
    "                'Jessica': {'The Lord of the Rings': 3.5, \n",
    "                          'Star Trek': 3.0,\n",
    "                          'The Terminator': 4.0, \n",
    "                          'Norbit': 2.5, \n",
    "                          'Star Wars': 4.5},\n",
    " \n",
    "                'Paul': {'The Hobbit': 3.0, \n",
    "                       'The Lord of the Rings': 4.0, \n",
    "                       'Star Trek': 2.0, \n",
    "                       'The Terminator': 3.0, \n",
    "                       'Norbit': 2.0,\n",
    "                       'Star Wars': 3.0}, \n",
    "\n",
    "                'Suzane': {'The Hobbit': 3.0, \n",
    "                           'The Lord of the Rings': 4.0,\n",
    "                           'The Terminator': 5.0, \n",
    "                           'Norbit': 3.5, \n",
    "                           'Star Wars': 3.0},\n",
    "  \n",
    "                'Fred': {'The Lord of the Rings':4.5,\n",
    "                           'The Terminator':4.0,\n",
    "                         'Norbit':1.0}\n",
    "}"
   ]
  },
  {
   "cell_type": "markdown",
   "id": "1660d9a0",
   "metadata": {},
   "source": [
    "<img src=\"Capture3.png\" style = \"width:500px\" align = \"left\"/>"
   ]
  },
  {
   "cell_type": "markdown",
   "id": "0e4997cb",
   "metadata": {},
   "source": [
    "<h4> Calculating Euclidean Distance between 2 users</h4>"
   ]
  },
  {
   "cell_type": "code",
   "execution_count": 3,
   "id": "e44705e8",
   "metadata": {},
   "outputs": [],
   "source": [
    "def similarity_test_bet_2users(dataset, user1, user2):\n",
    "    \n",
    "    euclidean_distance = 0\n",
    "    \n",
    "    for item in dataset[user1]:\n",
    "        if item in dataset[user2]:\n",
    "            distance = math.pow((dataset[user1][item] - dataset[user2][item]), 2)\n",
    "            euclidean_distance = euclidean_distance + distance\n",
    "    \n",
    "    euclidean_distance = math.sqrt(euclidean_distance)\n",
    "    \n",
    "    percent_similarity = 1 / (1 + euclidean_distance)\n",
    "    \n",
    "    return percent_similarity"
   ]
  },
  {
   "cell_type": "code",
   "execution_count": 4,
   "id": "18cbba69",
   "metadata": {},
   "outputs": [
    {
     "data": {
      "text/plain": [
       "0.3483314773547883"
      ]
     },
     "execution_count": 4,
     "metadata": {},
     "output_type": "execute_result"
    }
   ],
   "source": [
    "similarity_test_bet_2users(users_feedback, 'Mary', 'Fred')"
   ]
  },
  {
   "cell_type": "markdown",
   "id": "ff3fbe0a",
   "metadata": {},
   "source": [
    "<h4> Calculating Euclidean Distance between 1 user and ALL other users </h4>"
   ]
  },
  {
   "cell_type": "code",
   "execution_count": 5,
   "id": "0435bd1a",
   "metadata": {},
   "outputs": [],
   "source": [
    "def get_similar_users(dataset, user_select):\n",
    "    \n",
    "    results = []\n",
    "    \n",
    "    for user in dataset.keys():\n",
    "        if user != user_select:\n",
    "            result = (similarity_test_bet_2users(dataset, user_select, user), user)\n",
    "            results.append(result)\n",
    "            \n",
    "    results = sorted(results, reverse = True)       \n",
    "    return results"
   ]
  },
  {
   "cell_type": "code",
   "execution_count": 6,
   "id": "8b782aa3",
   "metadata": {},
   "outputs": [
    {
     "data": {
      "text/plain": [
       "[(0.4, 'Paul'),\n",
       " (0.38742588672279304, 'Stuart'),\n",
       " (0.3567891723253309, 'Jessica'),\n",
       " (0.3483314773547883, 'Mary'),\n",
       " (0.28989794855663564, 'Peter'),\n",
       " (0.2674788903885893, 'Suzane')]"
      ]
     },
     "execution_count": 6,
     "metadata": {},
     "output_type": "execute_result"
    }
   ],
   "source": [
    "get_similar_users(users_feedback, 'Fred')"
   ]
  },
  {
   "cell_type": "markdown",
   "id": "3b1a7b8a",
   "metadata": {},
   "source": [
    "<h4> Predicting movie score for movies that user has not watched yet based on the weighted assigned score of other movies rated by other users </h4>"
   ]
  },
  {
   "attachments": {},
   "cell_type": "markdown",
   "id": "df675b5b",
   "metadata": {},
   "source": [
    "<img src=\"Capture1.png\" style = \"width:500px\" align = \"left\"/>"
   ]
  },
  {
   "cell_type": "code",
   "execution_count": 7,
   "id": "35e39493",
   "metadata": {},
   "outputs": [],
   "source": [
    "def user_recommendation(dataset, user_select):\n",
    "    totals = {}\n",
    "    sum_similarity = {}\n",
    "    recommendations = []\n",
    "    \n",
    "    for other in dataset.keys():\n",
    "        if other != user_select:\n",
    "            similarity = similarity_test_bet_2users(dataset, user_select, other)\n",
    "            if similarity == 0:   # potential problem if user has not watched any movie before\n",
    "                continue\n",
    "    \n",
    "            for movie in dataset[other]:\n",
    "                if movie not in dataset[user_select]:\n",
    "                    totals.setdefault(movie, 0)\n",
    "                    totals[movie] += dataset[other][movie] * similarity\n",
    "                    \n",
    "                    sum_similarity.setdefault(movie, 0)\n",
    "                    sum_similarity[movie] += similarity\n",
    "                    \n",
    "    for item, total in totals.items():\n",
    "        recommendation = (total / sum_similarity[item], item)\n",
    "        recommendations.append(recommendation)\n",
    "        \n",
    "    recommendations.sort(reverse = True)\n",
    "    \n",
    "    return recommendations"
   ]
  },
  {
   "cell_type": "code",
   "execution_count": 8,
   "id": "9a471984",
   "metadata": {},
   "outputs": [
    {
     "data": {
      "text/plain": [
       "[(3.5207797678329342, 'Star Wars'),\n",
       " (2.7827232588048805, 'The Hobbit'),\n",
       " (2.4015514030492744, 'Star Trek')]"
      ]
     },
     "execution_count": 8,
     "metadata": {},
     "output_type": "execute_result"
    }
   ],
   "source": [
    "user_recommendation(users_feedback, 'Fred')"
   ]
  },
  {
   "cell_type": "markdown",
   "id": "fcb96bf8",
   "metadata": {},
   "source": [
    "<h4> Setting a score threshold and print only recommended movies to specific user </h4>"
   ]
  },
  {
   "cell_type": "code",
   "execution_count": 9,
   "id": "cfa36f23",
   "metadata": {},
   "outputs": [],
   "source": [
    "def print_movies_recommendation(dataset, user_select, min_score = 3):\n",
    "    \n",
    "    reco = user_recommendation(dataset, user_select)\n",
    "    \n",
    "    for movie in reco:\n",
    "        if movie[0] >= min_score:\n",
    "            print(movie[1])"
   ]
  },
  {
   "cell_type": "code",
   "execution_count": 10,
   "id": "9acad0c9",
   "metadata": {},
   "outputs": [
    {
     "name": "stdout",
     "output_type": "stream",
     "text": [
      "Star Wars\n"
     ]
    }
   ],
   "source": [
    "print_movies_recommendation(users_feedback, 'Fred')"
   ]
  },
  {
   "cell_type": "markdown",
   "id": "6c62fd35",
   "metadata": {},
   "source": [
    "<h3> Using MovieLens Dataset </h3>"
   ]
  },
  {
   "cell_type": "markdown",
   "id": "ad709847",
   "metadata": {},
   "source": [
    "<p> Data source can be found here in GroupLens: <a href=\"https://files.grouplens.org/datasets/movielens/ml-100k.zip\">Link</a></p> "
   ]
  },
  {
   "cell_type": "markdown",
   "id": "7a552ab9",
   "metadata": {},
   "source": [
    "<h4> Based on similar users, what would a user prefer to watch? </h4>"
   ]
  },
  {
   "cell_type": "code",
   "execution_count": 11,
   "id": "2a461952",
   "metadata": {},
   "outputs": [],
   "source": [
    "def load_movie_lens():\n",
    "    \n",
    "    movies = {}\n",
    "    user_ratings = {}\n",
    "    \n",
    "    for row in open(\"u.item\", \"r\"):\n",
    "        (id, name) = row.split('|')[0:2]\n",
    "        movies[id] = name\n",
    "        \n",
    "    for row in open(\"u.data\", \"r\"):\n",
    "        (user_id, movie_id, rating) = row.split()[0:3]\n",
    "        user_ratings.setdefault(user_id, {})\n",
    "        user_ratings[user_id][movies[movie_id]] = float(rating)\n",
    "        \n",
    "    return user_ratings  "
   ]
  },
  {
   "cell_type": "code",
   "execution_count": 12,
   "id": "bd9ba137",
   "metadata": {},
   "outputs": [],
   "source": [
    "ds = load_movie_lens()"
   ]
  },
  {
   "cell_type": "code",
   "execution_count": 13,
   "id": "ff9c0aa5",
   "metadata": {},
   "outputs": [
    {
     "name": "stdout",
     "output_type": "stream",
     "text": [
      "Saint of Fort Washington, The (1993)\n",
      "They Made Me a Criminal (1939)\n",
      "Someone Else's America (1995)\n",
      "Santa with Muscles (1996)\n",
      "Prefontaine (1997)\n",
      "Marlene Dietrich: Shadow and Light (1996) \n",
      "Great Day in Harlem, A (1994)\n",
      "Entertaining Angels: The Dorothy Day Story (1996)\n",
      "Aiqing wansui (1994)\n",
      "Star Kid (1997)\n"
     ]
    }
   ],
   "source": [
    "print_movies_recommendation(ds, '1', 4.9)"
   ]
  },
  {
   "cell_type": "code",
   "execution_count": 15,
   "id": "39047eb7",
   "metadata": {},
   "outputs": [
    {
     "name": "stdout",
     "output_type": "stream",
     "text": [
      "Prefontaine (1997)\n",
      "They Made Me a Criminal (1939)\n",
      "Star Kid (1997)\n",
      "Someone Else's America (1995)\n",
      "Santa with Muscles (1996)\n",
      "Saint of Fort Washington, The (1993)\n",
      "Marlene Dietrich: Shadow and Light (1996) \n",
      "Great Day in Harlem, A (1994)\n",
      "Entertaining Angels: The Dorothy Day Story (1996)\n",
      "Aiqing wansui (1994)\n"
     ]
    }
   ],
   "source": [
    "print_movies_recommendation(ds, '2', 4.9)"
   ]
  },
  {
   "cell_type": "markdown",
   "id": "c88bc7f5",
   "metadata": {},
   "source": [
    "<h4> Recommend movies to potential audiences that would give a predicted score of above or equal to 4.5</h4>"
   ]
  },
  {
   "cell_type": "code",
   "execution_count": 16,
   "id": "24066732",
   "metadata": {},
   "outputs": [],
   "source": [
    "def load_movie_lens2():\n",
    "    \n",
    "    movies = {}\n",
    "    user_ratings = {}\n",
    "    \n",
    "    for row in open(\"u.item\", \"r\"):\n",
    "        (id, name) = row.split('|')[0:2]\n",
    "        movies[id] = name\n",
    "        \n",
    "    for row in open(\"u.data\", \"r\"):\n",
    "        (user_id, movie_id, rating) = row.split()[0:3]\n",
    "        user_ratings.setdefault(movies[movie_id], {})\n",
    "        user_ratings[movies[movie_id]][user_id] = float(rating)\n",
    "        \n",
    "    return user_ratings  "
   ]
  },
  {
   "cell_type": "code",
   "execution_count": 17,
   "id": "9ea2136a",
   "metadata": {},
   "outputs": [],
   "source": [
    "ds2 = load_movie_lens2()"
   ]
  },
  {
   "cell_type": "code",
   "execution_count": 18,
   "id": "f693e05e",
   "metadata": {},
   "outputs": [
    {
     "name": "stdout",
     "output_type": "stream",
     "text": [
      "688\n",
      "849\n",
      "628\n",
      "242\n",
      "928\n",
      "427\n",
      "118\n",
      "519\n",
      "469\n",
      "225\n",
      "565\n",
      "440\n",
      "260\n",
      "810\n"
     ]
    }
   ],
   "source": [
    "print_movies_recommendation(ds2, 'Star Wars (1977)', 4.5)"
   ]
  },
  {
   "cell_type": "markdown",
   "id": "5e8278b8",
   "metadata": {},
   "source": [
    "<H3> Using LibRecommender Package</H3>"
   ]
  },
  {
   "cell_type": "markdown",
   "id": "d75bb3e4",
   "metadata": {},
   "source": [
    "<p> Documentation can be found here: <a href = \"https://pypi.org/project/LibRecommender/\"> Link </a></p>"
   ]
  },
  {
   "cell_type": "code",
   "execution_count": 26,
   "id": "693db25d",
   "metadata": {},
   "outputs": [],
   "source": [
    "def load_movie_lens():\n",
    "    \n",
    "    movies = {}\n",
    "    \n",
    "    for row in open(\"u.item\", \"r\"):\n",
    "        (id, name) = row.split('|')[0:2]\n",
    "        movies[id] = name\n",
    "    \n",
    "    return movies"
   ]
  },
  {
   "cell_type": "code",
   "execution_count": 37,
   "id": "113adf76",
   "metadata": {},
   "outputs": [],
   "source": [
    "movies = load_movie_lens()"
   ]
  },
  {
   "cell_type": "code",
   "execution_count": 38,
   "id": "1b6825e6",
   "metadata": {},
   "outputs": [],
   "source": [
    "import numpy as np\n",
    "import pandas as pd\n",
    "from libreco.data import DatasetPure\n",
    "from libreco.algorithms import UserCF, ItemCF"
   ]
  },
  {
   "cell_type": "code",
   "execution_count": 49,
   "id": "ce7d7ac2",
   "metadata": {},
   "outputs": [],
   "source": [
    "dataset = pd.read_csv('u.data', sep='\\t', names = ['user', 'item', 'label', 'time'])"
   ]
  },
  {
   "cell_type": "code",
   "execution_count": 50,
   "id": "4d90db46",
   "metadata": {},
   "outputs": [
    {
     "data": {
      "text/html": [
       "<div>\n",
       "<style scoped>\n",
       "    .dataframe tbody tr th:only-of-type {\n",
       "        vertical-align: middle;\n",
       "    }\n",
       "\n",
       "    .dataframe tbody tr th {\n",
       "        vertical-align: top;\n",
       "    }\n",
       "\n",
       "    .dataframe thead th {\n",
       "        text-align: right;\n",
       "    }\n",
       "</style>\n",
       "<table border=\"1\" class=\"dataframe\">\n",
       "  <thead>\n",
       "    <tr style=\"text-align: right;\">\n",
       "      <th></th>\n",
       "      <th>user</th>\n",
       "      <th>item</th>\n",
       "      <th>label</th>\n",
       "      <th>time</th>\n",
       "    </tr>\n",
       "  </thead>\n",
       "  <tbody>\n",
       "    <tr>\n",
       "      <th>0</th>\n",
       "      <td>196</td>\n",
       "      <td>242</td>\n",
       "      <td>3</td>\n",
       "      <td>881250949</td>\n",
       "    </tr>\n",
       "    <tr>\n",
       "      <th>1</th>\n",
       "      <td>186</td>\n",
       "      <td>302</td>\n",
       "      <td>3</td>\n",
       "      <td>891717742</td>\n",
       "    </tr>\n",
       "    <tr>\n",
       "      <th>2</th>\n",
       "      <td>22</td>\n",
       "      <td>377</td>\n",
       "      <td>1</td>\n",
       "      <td>878887116</td>\n",
       "    </tr>\n",
       "    <tr>\n",
       "      <th>3</th>\n",
       "      <td>244</td>\n",
       "      <td>51</td>\n",
       "      <td>2</td>\n",
       "      <td>880606923</td>\n",
       "    </tr>\n",
       "    <tr>\n",
       "      <th>4</th>\n",
       "      <td>166</td>\n",
       "      <td>346</td>\n",
       "      <td>1</td>\n",
       "      <td>886397596</td>\n",
       "    </tr>\n",
       "    <tr>\n",
       "      <th>...</th>\n",
       "      <td>...</td>\n",
       "      <td>...</td>\n",
       "      <td>...</td>\n",
       "      <td>...</td>\n",
       "    </tr>\n",
       "    <tr>\n",
       "      <th>99995</th>\n",
       "      <td>880</td>\n",
       "      <td>476</td>\n",
       "      <td>3</td>\n",
       "      <td>880175444</td>\n",
       "    </tr>\n",
       "    <tr>\n",
       "      <th>99996</th>\n",
       "      <td>716</td>\n",
       "      <td>204</td>\n",
       "      <td>5</td>\n",
       "      <td>879795543</td>\n",
       "    </tr>\n",
       "    <tr>\n",
       "      <th>99997</th>\n",
       "      <td>276</td>\n",
       "      <td>1090</td>\n",
       "      <td>1</td>\n",
       "      <td>874795795</td>\n",
       "    </tr>\n",
       "    <tr>\n",
       "      <th>99998</th>\n",
       "      <td>13</td>\n",
       "      <td>225</td>\n",
       "      <td>2</td>\n",
       "      <td>882399156</td>\n",
       "    </tr>\n",
       "    <tr>\n",
       "      <th>99999</th>\n",
       "      <td>12</td>\n",
       "      <td>203</td>\n",
       "      <td>3</td>\n",
       "      <td>879959583</td>\n",
       "    </tr>\n",
       "  </tbody>\n",
       "</table>\n",
       "<p>100000 rows × 4 columns</p>\n",
       "</div>"
      ],
      "text/plain": [
       "       user  item  label       time\n",
       "0       196   242      3  881250949\n",
       "1       186   302      3  891717742\n",
       "2        22   377      1  878887116\n",
       "3       244    51      2  880606923\n",
       "4       166   346      1  886397596\n",
       "...     ...   ...    ...        ...\n",
       "99995   880   476      3  880175444\n",
       "99996   716   204      5  879795543\n",
       "99997   276  1090      1  874795795\n",
       "99998    13   225      2  882399156\n",
       "99999    12   203      3  879959583\n",
       "\n",
       "[100000 rows x 4 columns]"
      ]
     },
     "execution_count": 50,
     "metadata": {},
     "output_type": "execute_result"
    }
   ],
   "source": [
    "dataset"
   ]
  },
  {
   "cell_type": "code",
   "execution_count": 51,
   "id": "1141ffba",
   "metadata": {},
   "outputs": [],
   "source": [
    "data, data_info = DatasetPure.build_trainset(dataset)"
   ]
  },
  {
   "cell_type": "code",
   "execution_count": 52,
   "id": "b6994f2e",
   "metadata": {},
   "outputs": [
    {
     "name": "stdout",
     "output_type": "stream",
     "text": [
      "n_users: 943, n_items: 1682, data density: 6.3047 %\n"
     ]
    }
   ],
   "source": [
    "print(data_info)      \n",
    "\n",
    "#item-based filtering perform better with higher data density"
   ]
  },
  {
   "cell_type": "markdown",
   "id": "b31a81e0",
   "metadata": {},
   "source": [
    "<h4> User-Based Filtering using LibReco </h4> "
   ]
  },
  {
   "cell_type": "code",
   "execution_count": 60,
   "id": "458b7a5f",
   "metadata": {},
   "outputs": [
    {
     "name": "stdout",
     "output_type": "stream",
     "text": [
      "Training start time: \u001b[35m2023-08-06 22:20:23\u001b[0m\n",
      "Final block size and num: (943, 1)\n",
      "sim_matrix elapsed: 0.061s\n",
      "sim_matrix, shape: (943, 943), num_elements: 855194, density: 96.1704 %\n"
     ]
    },
    {
     "name": "stderr",
     "output_type": "stream",
     "text": [
      "top_k: 100%|███████████████████████████████████████████████████████████████████████| 943/943 [00:00<00:00, 5695.89it/s]\n"
     ]
    }
   ],
   "source": [
    "user_cf = UserCF(task='rating', data_info=data_info, sim_type='pearson')\n",
    "user_cf.fit(data, neg_sampling = False)"
   ]
  },
  {
   "cell_type": "code",
   "execution_count": 61,
   "id": "36f4feaa",
   "metadata": {},
   "outputs": [
    {
     "name": "stdout",
     "output_type": "stream",
     "text": [
      "Score prediction:  3.710552453994751 Richard III (1995)\n"
     ]
    }
   ],
   "source": [
    "print('Score prediction: ', user_cf.predict(user=1, item=10), movies['10'])"
   ]
  },
  {
   "cell_type": "code",
   "execution_count": 66,
   "id": "3fced8b6",
   "metadata": {},
   "outputs": [
    {
     "name": "stdout",
     "output_type": "stream",
     "text": [
      "Recommendations:  {1: array([ 487,  516, 1514,  874, 1143,  868,  865,  414,  811,  814],\n",
      "      dtype=int64)}\n"
     ]
    }
   ],
   "source": [
    "print('Recommendations: ', user_cf.recommend_user(user=1, n_rec=10))"
   ]
  },
  {
   "cell_type": "code",
   "execution_count": 80,
   "id": "dd8169ba",
   "metadata": {},
   "outputs": [
    {
     "data": {
      "text/plain": [
       "array([ 487,  516, 1514,  874, 1143,  868,  865,  414,  811,  814],\n",
       "      dtype=int64)"
      ]
     },
     "execution_count": 80,
     "metadata": {},
     "output_type": "execute_result"
    }
   ],
   "source": [
    "user_cf.recommend_user(user=1, n_rec=10)[1]"
   ]
  },
  {
   "cell_type": "code",
   "execution_count": 85,
   "id": "33c34eb1",
   "metadata": {},
   "outputs": [],
   "source": [
    "def print_user_recommendation_lr(movie_dataset, cf, user, number_rec):\n",
    "    recommendations = cf.recommend_user(user=user, n_rec=number_rec)\n",
    "    recommendations = recommendations[user]\n",
    "    for movie in recommendations:\n",
    "        print(movie_dataset[str(movie)])"
   ]
  },
  {
   "cell_type": "code",
   "execution_count": 86,
   "id": "2501e631",
   "metadata": {},
   "outputs": [
    {
     "name": "stdout",
     "output_type": "stream",
     "text": [
      "Roman Holiday (1953)\n",
      "Local Hero (1983)\n",
      "Dream With the Fishes (1997)\n",
      "Career Girls (1997)\n",
      "Hard Eight (1996)\n",
      "Hearts and Minds (1996)\n",
      "Ice Storm, The (1997)\n",
      "My Favorite Year (1982)\n",
      "Thirty-Two Short Films About Glenn Gould (1993)\n",
      "Great Day in Harlem, A (1994)\n"
     ]
    }
   ],
   "source": [
    "print_user_recommendation_lr(movies, user_cf, 1, 10)"
   ]
  },
  {
   "cell_type": "code",
   "execution_count": 87,
   "id": "866dd7fa",
   "metadata": {},
   "outputs": [
    {
     "name": "stdout",
     "output_type": "stream",
     "text": [
      "Saint of Fort Washington, The (1993)\n",
      "They Made Me a Criminal (1939)\n",
      "Someone Else's America (1995)\n",
      "Santa with Muscles (1996)\n",
      "Prefontaine (1997)\n",
      "Marlene Dietrich: Shadow and Light (1996) \n",
      "Great Day in Harlem, A (1994)\n",
      "Entertaining Angels: The Dorothy Day Story (1996)\n",
      "Aiqing wansui (1994)\n",
      "Star Kid (1997)\n"
     ]
    }
   ],
   "source": [
    "print_movies_recommendation(ds, '1', 4.8)          #different results from manual calculation because manual was generated from euclidean distance method."
   ]
  }
 ],
 "metadata": {
  "kernelspec": {
   "display_name": "Python 3 (ipykernel)",
   "language": "python",
   "name": "python3"
  },
  "language_info": {
   "codemirror_mode": {
    "name": "ipython",
    "version": 3
   },
   "file_extension": ".py",
   "mimetype": "text/x-python",
   "name": "python",
   "nbconvert_exporter": "python",
   "pygments_lexer": "ipython3",
   "version": "3.11.1"
  }
 },
 "nbformat": 4,
 "nbformat_minor": 5
}
